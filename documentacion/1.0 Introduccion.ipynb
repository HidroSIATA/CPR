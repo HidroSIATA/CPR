{
 "cells": [
  {
   "cell_type": "markdown",
   "metadata": {},
   "source": [
    "## INTRODUCCIÓN"
   ]
  },
  {
   "cell_type": "markdown",
   "metadata": {},
   "source": [
    "cpr es un repositorio con funciones y clases para la realización de: Consultas, plots y reportes de las estaciones y los modelos que administra hidrología"
   ]
  },
  {
   "cell_type": "markdown",
   "metadata": {},
   "source": [
    "## Instalación del repositorio"
   ]
  },
  {
   "cell_type": "markdown",
   "metadata": {},
   "source": [
    "Se debe usar el siguiente comando en la terminal\n",
    "\n",
    "git clone https://github.com/marcae777/CPR.git\n",
    "el comando creará una carpeta llamada CPR que contiene el repositorio, en esta hay un archivo de instalación que se llama setup.py que es el que instalará la librería cpr,\n",
    "para instalarla se usa la siguiente linea de comando en la terminal\n",
    "\n",
    "- sudo python setup.py install\n",
    "\n",
    "Si la instalación se llevó a cabo correctamente, se podrá importar el módulo desde cualquier carpeta del sistema"
   ]
  },
  {
   "cell_type": "markdown",
   "metadata": {},
   "source": [
    "Para importar el módulo"
   ]
  },
  {
   "cell_type": "code",
   "execution_count": 1,
   "metadata": {
    "collapsed": true
   },
   "outputs": [],
   "source": [
    "from cpr import cpr"
   ]
  },
  {
   "cell_type": "markdown",
   "metadata": {},
   "source": [
    "El módulo está dividido en varias clases (Class Objects), el uso de estas hace parte algo llamado $\"programación\\ orientada\\ a\\ objetos\"$, la finalidad principal de esta estrategia de programación es tratar de agrupar de forma fácil y lógica, los datos y funciones que están relacionadas para facilitar la reutilización del código. En el caso de los datos que se trabajan en el departamento de hidrología\n",
    "los podríamos agrupar en varias clases principales\n",
    "\n",
    "    1. Nivel: los datos de las estaciones de nivel\n",
    "    2. Pluvio: datos de las estaciones pluviométricas\n",
    "    4. Radar: datos del radar meteorológico\n",
    "    3. Aforos: levantamientos topo-batimétricos\n",
    "    4. Redrio: datos de aforos Redrío \n",
    "    4. Meteo: datos de meteorología\n",
    "    5. VelSup: Velocidad Superficial\n",
    "\n",
    "para llamar las clases usamos el comando cpr.NombreModulo, así:"
   ]
  },
  {
   "cell_type": "code",
   "execution_count": 2,
   "metadata": {},
   "outputs": [
    {
     "data": {
      "text/plain": [
       "Class Object. Nivel(codigo = 99)"
      ]
     },
     "execution_count": 2,
     "metadata": {},
     "output_type": "execute_result"
    }
   ],
   "source": [
    "cpr.Nivel(99)"
   ]
  },
  {
   "cell_type": "markdown",
   "metadata": {},
   "source": [
    "### para correr las clases:\n",
    "    - Se corre el módulo con el código de la estación como argumento, por ejemplo, si quisieramos consultar información de la estación de nivel aula ambiental haríamos lo siguiente:"
   ]
  },
  {
   "cell_type": "code",
   "execution_count": 3,
   "metadata": {
    "collapsed": true
   },
   "outputs": [],
   "source": [
    "codigo = 99 # código de la estación en la base de datos\n",
    "aula = cpr.Nivel(codigo) # se corre el módulo para la estación aula ambiental"
   ]
  },
  {
   "cell_type": "markdown",
   "metadata": {},
   "source": [
    "una vez insertado el código, la clase heredará ciertos atributos"
   ]
  },
  {
   "cell_type": "markdown",
   "metadata": {},
   "source": [
    "### Propiedades heredadas"
   ]
  },
  {
   "cell_type": "code",
   "execution_count": 4,
   "metadata": {},
   "outputs": [
    {
     "data": {
      "text/plain": [
       "'Aula Ambiental'"
      ]
     },
     "execution_count": 4,
     "metadata": {},
     "output_type": "execute_result"
    }
   ],
   "source": [
    "aula.nombre #nombre de la estación"
   ]
  },
  {
   "cell_type": "code",
   "execution_count": 5,
   "metadata": {},
   "outputs": [
    {
     "data": {
      "text/plain": [
       "(-75.572532, 6.26411)"
      ]
     },
     "execution_count": 5,
     "metadata": {},
     "output_type": "execute_result"
    }
   ],
   "source": [
    "aula.longitud,aula.latitud # coordenadas"
   ]
  },
  {
   "cell_type": "code",
   "execution_count": 6,
   "metadata": {},
   "outputs": [
    {
     "data": {
      "text/plain": [
       "1"
      ]
     },
     "execution_count": 6,
     "metadata": {},
     "output_type": "execute_result"
    }
   ],
   "source": [
    "aula.sensor_type"
   ]
  },
  {
   "cell_type": "code",
   "execution_count": 7,
   "metadata": {},
   "outputs": [
    {
     "data": {
      "text/plain": [
       "99"
      ]
     },
     "execution_count": 7,
     "metadata": {},
     "output_type": "execute_result"
    }
   ],
   "source": [
    "aula.codigo"
   ]
  },
  {
   "cell_type": "code",
   "execution_count": 8,
   "metadata": {},
   "outputs": [
    {
     "data": {
      "text/plain": [
       "1285.0"
      ]
     },
     "execution_count": 8,
     "metadata": {},
     "output_type": "execute_result"
    }
   ],
   "source": [
    "aula.offset # último offset registrado"
   ]
  },
  {
   "cell_type": "code",
   "execution_count": 9,
   "metadata": {},
   "outputs": [
    {
     "data": {
      "text/plain": [
       "1285.0"
      ]
     },
     "execution_count": 9,
     "metadata": {},
     "output_type": "execute_result"
    }
   ],
   "source": [
    "aula.offsetOld # el offset con el que siempre se ha trabajado"
   ]
  },
  {
   "cell_type": "code",
   "execution_count": 10,
   "metadata": {},
   "outputs": [
    {
     "data": {
      "text/plain": [
       "(140.0, 210.0, 260.0, 350.0)"
      ]
     },
     "execution_count": 10,
     "metadata": {},
     "output_type": "execute_result"
    }
   ],
   "source": [
    "aula.riskLevels # niveles de riesgo"
   ]
  },
  {
   "cell_type": "markdown",
   "metadata": {},
   "source": [
    "#### Para ver información rápidamente"
   ]
  },
  {
   "cell_type": "code",
   "execution_count": 11,
   "metadata": {},
   "outputs": [
    {
     "name": "stdout",
     "output_type": "stream",
     "text": [
      "Nombre: Aula Ambiental\n",
      "Red: Nivel\n",
      "Codigo: 99\n",
      "Longitud:-75.572532\n",
      "Latitud: 6.26411\n",
      "Municipio: Medellin\n",
      "Offset: 1285.0\n",
      "OffsetOld: 1285.0\n",
      "riskLevels: (140.0, 210.0, 260.0, 350.0)\n"
     ]
    }
   ],
   "source": [
    "print aula"
   ]
  },
  {
   "cell_type": "markdown",
   "metadata": {},
   "source": [
    "#### Serie de tiempo con información de la estación"
   ]
  },
  {
   "cell_type": "code",
   "execution_count": 12,
   "metadata": {},
   "outputs": [
    {
     "data": {
      "text/plain": [
       "id                              139\n",
       "NombreEstacion       Aula Ambiental\n",
       "Red                           nivel\n",
       "estado                            A\n",
       "N                                 1\n",
       "Ciudad                     Medellin\n",
       "Longitude                -75.572532\n",
       "Latitude                   6.264110\n",
       "offsetN                        1285\n",
       "action_level                    140\n",
       "minor_flooding                  210\n",
       "moderate_flooding               260\n",
       "major_flooding                  350\n",
       "Name: 99, dtype: object"
      ]
     },
     "execution_count": 12,
     "metadata": {},
     "output_type": "execute_result"
    }
   ],
   "source": [
    "aula.info"
   ]
  },
  {
   "cell_type": "markdown",
   "metadata": {},
   "source": [
    "#### dataFrame con información de todas las estaciones"
   ]
  },
  {
   "cell_type": "code",
   "execution_count": 13,
   "metadata": {},
   "outputs": [
    {
     "data": {
      "text/html": [
       "<div>\n",
       "<style>\n",
       "    .dataframe thead tr:only-child th {\n",
       "        text-align: right;\n",
       "    }\n",
       "\n",
       "    .dataframe thead th {\n",
       "        text-align: left;\n",
       "    }\n",
       "\n",
       "    .dataframe tbody tr th {\n",
       "        vertical-align: top;\n",
       "    }\n",
       "</style>\n",
       "<table border=\"1\" class=\"dataframe\">\n",
       "  <thead>\n",
       "    <tr style=\"text-align: right;\">\n",
       "      <th></th>\n",
       "      <th>id</th>\n",
       "      <th>NombreEstacion</th>\n",
       "      <th>Red</th>\n",
       "      <th>estado</th>\n",
       "      <th>N</th>\n",
       "      <th>Ciudad</th>\n",
       "      <th>Longitude</th>\n",
       "      <th>Latitude</th>\n",
       "      <th>offsetN</th>\n",
       "      <th>action_level</th>\n",
       "      <th>minor_flooding</th>\n",
       "      <th>moderate_flooding</th>\n",
       "      <th>major_flooding</th>\n",
       "    </tr>\n",
       "  </thead>\n",
       "  <tbody>\n",
       "    <tr>\n",
       "      <th>98</th>\n",
       "      <td>140</td>\n",
       "      <td>Estacion Metro Floresta</td>\n",
       "      <td>nivel</td>\n",
       "      <td>A</td>\n",
       "      <td>0</td>\n",
       "      <td>Medellin</td>\n",
       "      <td>-75.5975</td>\n",
       "      <td>6.2585</td>\n",
       "      <td>860.0</td>\n",
       "      <td>20.0</td>\n",
       "      <td>40.0</td>\n",
       "      <td>120.0</td>\n",
       "      <td>380.0</td>\n",
       "    </tr>\n",
       "    <tr>\n",
       "      <th>99</th>\n",
       "      <td>139</td>\n",
       "      <td>Aula Ambiental</td>\n",
       "      <td>nivel</td>\n",
       "      <td>A</td>\n",
       "      <td>1</td>\n",
       "      <td>Medellin</td>\n",
       "      <td>-75.572532</td>\n",
       "      <td>6.264110</td>\n",
       "      <td>1285.0</td>\n",
       "      <td>140.0</td>\n",
       "      <td>210.0</td>\n",
       "      <td>260.0</td>\n",
       "      <td>350.0</td>\n",
       "    </tr>\n",
       "    <tr>\n",
       "      <th>97</th>\n",
       "      <td>141</td>\n",
       "      <td>Parque de las Aguas-Nivel</td>\n",
       "      <td>nivel</td>\n",
       "      <td>I</td>\n",
       "      <td>1</td>\n",
       "      <td>Barbosa</td>\n",
       "      <td>-75.4186</td>\n",
       "      <td>6.4054</td>\n",
       "      <td>550.0</td>\n",
       "      <td>-999.0</td>\n",
       "      <td>-999.0</td>\n",
       "      <td>-999.0</td>\n",
       "      <td>-999.0</td>\n",
       "    </tr>\n",
       "    <tr>\n",
       "      <th>96</th>\n",
       "      <td>142</td>\n",
       "      <td>La Gomez</td>\n",
       "      <td>nivel</td>\n",
       "      <td>A</td>\n",
       "      <td>1</td>\n",
       "      <td>Medellin</td>\n",
       "      <td>-75.5932</td>\n",
       "      <td>6.2739</td>\n",
       "      <td>300.0</td>\n",
       "      <td>82.0</td>\n",
       "      <td>106.0</td>\n",
       "      <td>162.0</td>\n",
       "      <td>206.0</td>\n",
       "    </tr>\n",
       "    <tr>\n",
       "      <th>93</th>\n",
       "      <td>160</td>\n",
       "      <td>Puente 33</td>\n",
       "      <td>nivel</td>\n",
       "      <td>A</td>\n",
       "      <td>1</td>\n",
       "      <td>Medellin</td>\n",
       "      <td>-75.5775</td>\n",
       "      <td>6.2396</td>\n",
       "      <td>953.0</td>\n",
       "      <td>92.0</td>\n",
       "      <td>132.0</td>\n",
       "      <td>202.0</td>\n",
       "      <td>285.0</td>\n",
       "    </tr>\n",
       "  </tbody>\n",
       "</table>\n",
       "</div>"
      ],
      "text/plain": [
       "     id             NombreEstacion    Red estado  N    Ciudad   Longitude  \\\n",
       "98  140    Estacion Metro Floresta  nivel      A  0  Medellin    -75.5975   \n",
       "99  139             Aula Ambiental  nivel      A  1  Medellin  -75.572532   \n",
       "97  141  Parque de las Aguas-Nivel  nivel      I  1   Barbosa    -75.4186   \n",
       "96  142                   La Gomez  nivel      A  1  Medellin    -75.5932   \n",
       "93  160                  Puente 33  nivel      A  1  Medellin    -75.5775   \n",
       "\n",
       "    Latitude  offsetN  action_level  minor_flooding  moderate_flooding  \\\n",
       "98    6.2585    860.0          20.0            40.0              120.0   \n",
       "99  6.264110   1285.0         140.0           210.0              260.0   \n",
       "97    6.4054    550.0        -999.0          -999.0             -999.0   \n",
       "96    6.2739    300.0          82.0           106.0              162.0   \n",
       "93    6.2396    953.0          92.0           132.0              202.0   \n",
       "\n",
       "    major_flooding  \n",
       "98           380.0  \n",
       "99           350.0  \n",
       "97          -999.0  \n",
       "96           206.0  \n",
       "93           285.0  "
      ]
     },
     "execution_count": 13,
     "metadata": {},
     "output_type": "execute_result"
    }
   ],
   "source": [
    "aula.infost.head() # head se usa para desplegar solo la primera parte del dataFrame"
   ]
  },
  {
   "cell_type": "markdown",
   "metadata": {},
   "source": [
    "#### información de offset en tabla historicos_bancallena_offset\n",
    "este df tiene la información de los offset históricos de todas las estaciones de nivel"
   ]
  },
  {
   "cell_type": "code",
   "execution_count": 14,
   "metadata": {},
   "outputs": [
    {
     "data": {
      "text/html": [
       "<div>\n",
       "<style>\n",
       "    .dataframe thead tr:only-child th {\n",
       "        text-align: right;\n",
       "    }\n",
       "\n",
       "    .dataframe thead th {\n",
       "        text-align: left;\n",
       "    }\n",
       "\n",
       "    .dataframe tbody tr th {\n",
       "        vertical-align: top;\n",
       "    }\n",
       "</style>\n",
       "<table border=\"1\" class=\"dataframe\">\n",
       "  <thead>\n",
       "    <tr style=\"text-align: right;\">\n",
       "      <th></th>\n",
       "      <th>fecha_hora</th>\n",
       "      <th>offset</th>\n",
       "    </tr>\n",
       "    <tr>\n",
       "      <th>codigo</th>\n",
       "      <th></th>\n",
       "      <th></th>\n",
       "    </tr>\n",
       "  </thead>\n",
       "  <tbody>\n",
       "    <tr>\n",
       "      <th>1</th>\n",
       "      <td>2017-08-01 15:00:00</td>\n",
       "      <td>2.86</td>\n",
       "    </tr>\n",
       "    <tr>\n",
       "      <th>90</th>\n",
       "      <td>2013-12-03 12:00:00</td>\n",
       "      <td>393.00</td>\n",
       "    </tr>\n",
       "    <tr>\n",
       "      <th>90</th>\n",
       "      <td>2017-05-16 14:00:00</td>\n",
       "      <td>409.00</td>\n",
       "    </tr>\n",
       "    <tr>\n",
       "      <th>90</th>\n",
       "      <td>2017-05-16 14:40:00</td>\n",
       "      <td>408.00</td>\n",
       "    </tr>\n",
       "    <tr>\n",
       "      <th>90</th>\n",
       "      <td>2017-05-16 15:00:00</td>\n",
       "      <td>409.00</td>\n",
       "    </tr>\n",
       "  </tbody>\n",
       "</table>\n",
       "</div>"
      ],
      "text/plain": [
       "                fecha_hora  offset\n",
       "codigo                            \n",
       "1      2017-08-01 15:00:00    2.86\n",
       "90     2013-12-03 12:00:00  393.00\n",
       "90     2017-05-16 14:00:00  409.00\n",
       "90     2017-05-16 14:40:00  408.00\n",
       "90     2017-05-16 15:00:00  409.00"
      ]
     },
     "execution_count": 14,
     "metadata": {},
     "output_type": "execute_result"
    }
   ],
   "source": [
    "aula.get_hbo.head()"
   ]
  },
  {
   "cell_type": "markdown",
   "metadata": {},
   "source": [
    "### Para hacer consultas en la base de datos\n",
    "el módulo viene con funciones de lectura de la base de datos de mysql, los resultados son desplegados en un dataFrame de pandas"
   ]
  },
  {
   "cell_type": "code",
   "execution_count": 15,
   "metadata": {},
   "outputs": [
    {
     "data": {
      "text/html": [
       "<div>\n",
       "<style>\n",
       "    .dataframe thead tr:only-child th {\n",
       "        text-align: right;\n",
       "    }\n",
       "\n",
       "    .dataframe thead th {\n",
       "        text-align: left;\n",
       "    }\n",
       "\n",
       "    .dataframe tbody tr th {\n",
       "        vertical-align: top;\n",
       "    }\n",
       "</style>\n",
       "<table border=\"1\" class=\"dataframe\">\n",
       "  <thead>\n",
       "    <tr style=\"text-align: right;\">\n",
       "      <th></th>\n",
       "      <th>Field</th>\n",
       "      <th>Type</th>\n",
       "      <th>Null</th>\n",
       "      <th>Key</th>\n",
       "      <th>Default</th>\n",
       "      <th>Extra</th>\n",
       "    </tr>\n",
       "  </thead>\n",
       "  <tbody>\n",
       "    <tr>\n",
       "      <th>0</th>\n",
       "      <td>id</td>\n",
       "      <td>int(255)</td>\n",
       "      <td>NO</td>\n",
       "      <td>PRI</td>\n",
       "      <td>None</td>\n",
       "      <td>auto_increment</td>\n",
       "    </tr>\n",
       "    <tr>\n",
       "      <th>1</th>\n",
       "      <td>Longitude</td>\n",
       "      <td>varchar(255)</td>\n",
       "      <td>NO</td>\n",
       "      <td></td>\n",
       "      <td>None</td>\n",
       "      <td></td>\n",
       "    </tr>\n",
       "    <tr>\n",
       "      <th>2</th>\n",
       "      <td>Latitude</td>\n",
       "      <td>varchar(255)</td>\n",
       "      <td>NO</td>\n",
       "      <td></td>\n",
       "      <td>None</td>\n",
       "      <td></td>\n",
       "    </tr>\n",
       "    <tr>\n",
       "      <th>3</th>\n",
       "      <td>Descripcion</td>\n",
       "      <td>varchar(255)</td>\n",
       "      <td>NO</td>\n",
       "      <td></td>\n",
       "      <td>Red Siata</td>\n",
       "      <td></td>\n",
       "    </tr>\n",
       "    <tr>\n",
       "      <th>4</th>\n",
       "      <td>Foto</td>\n",
       "      <td>varchar(255)</td>\n",
       "      <td>NO</td>\n",
       "      <td></td>\n",
       "      <td>sol</td>\n",
       "      <td></td>\n",
       "    </tr>\n",
       "  </tbody>\n",
       "</table>\n",
       "</div>"
      ],
      "text/plain": [
       "         Field          Type Null  Key    Default           Extra\n",
       "0           id      int(255)   NO  PRI       None  auto_increment\n",
       "1    Longitude  varchar(255)   NO            None                \n",
       "2     Latitude  varchar(255)   NO            None                \n",
       "3  Descripcion  varchar(255)   NO       Red Siata                \n",
       "4         Foto  varchar(255)   NO             sol                "
      ]
     },
     "execution_count": 15,
     "metadata": {},
     "output_type": "execute_result"
    }
   ],
   "source": [
    "# ejemplo 1: Supongamos que queremos ver la información de la tabla estaciones\n",
    "sentencia = 'DESCRIBE estaciones;'\n",
    "df = aula.read_sql(sentencia)\n",
    "df.head()"
   ]
  },
  {
   "cell_type": "code",
   "execution_count": 16,
   "metadata": {
    "collapsed": true
   },
   "outputs": [],
   "source": [
    "# ejemplo 2: Se desea conocer el nombre de las estaciones que fueron instaladas después de noviembre del 2017"
   ]
  },
  {
   "cell_type": "code",
   "execution_count": 17,
   "metadata": {},
   "outputs": [
    {
     "data": {
      "text/html": [
       "<div>\n",
       "<style>\n",
       "    .dataframe thead tr:only-child th {\n",
       "        text-align: right;\n",
       "    }\n",
       "\n",
       "    .dataframe thead th {\n",
       "        text-align: left;\n",
       "    }\n",
       "\n",
       "    .dataframe tbody tr th {\n",
       "        vertical-align: top;\n",
       "    }\n",
       "</style>\n",
       "<table border=\"1\" class=\"dataframe\">\n",
       "  <thead>\n",
       "    <tr style=\"text-align: right;\">\n",
       "      <th></th>\n",
       "      <th>NombreEstacion</th>\n",
       "    </tr>\n",
       "  </thead>\n",
       "  <tbody>\n",
       "    <tr>\n",
       "      <th>0</th>\n",
       "      <td>Parque de las aguas - Thies</td>\n",
       "    </tr>\n",
       "    <tr>\n",
       "      <th>1</th>\n",
       "      <td>Q La Bermejala - Nivel</td>\n",
       "    </tr>\n",
       "    <tr>\n",
       "      <th>2</th>\n",
       "      <td>La clara digital- Humedad</td>\n",
       "    </tr>\n",
       "    <tr>\n",
       "      <th>3</th>\n",
       "      <td>Jorge Eliecer Gaitan - Thies</td>\n",
       "    </tr>\n",
       "    <tr>\n",
       "      <th>4</th>\n",
       "      <td>Vivero EPM Piedras Blancas - Pluvio</td>\n",
       "    </tr>\n",
       "  </tbody>\n",
       "</table>\n",
       "</div>"
      ],
      "text/plain": [
       "                        NombreEstacion\n",
       "0          Parque de las aguas - Thies\n",
       "1               Q La Bermejala - Nivel\n",
       "2            La clara digital- Humedad\n",
       "3         Jorge Eliecer Gaitan - Thies\n",
       "4  Vivero EPM Piedras Blancas - Pluvio"
      ]
     },
     "execution_count": 17,
     "metadata": {},
     "output_type": "execute_result"
    }
   ],
   "source": [
    "sentencia = \"SELECT NombreEstacion from estaciones WHERE fechaInstalacion > '2017-11-01'\"\n",
    "estacionesNuevas = aula.read_sql(sentencia)\n",
    "estacionesNuevas.head()"
   ]
  },
  {
   "cell_type": "markdown",
   "metadata": {},
   "source": [
    "###  lectura de datos de nivel"
   ]
  },
  {
   "cell_type": "markdown",
   "metadata": {},
   "source": [
    "para obtener datos de nivel se utiliza la función get_level(fecha_inicial,fecha_final)"
   ]
  },
  {
   "cell_type": "code",
   "execution_count": 18,
   "metadata": {},
   "outputs": [],
   "source": [
    "fecha_inicial = '2017-10-27'\n",
    "fecha_final = '2017-10-30'\n",
    "level = aula.get_level(fecha_inicial,fecha_final)"
   ]
  },
  {
   "cell_type": "code",
   "execution_count": 19,
   "metadata": {},
   "outputs": [
    {
     "data": {
      "text/html": [
       "<div>\n",
       "<style>\n",
       "    .dataframe thead tr:only-child th {\n",
       "        text-align: right;\n",
       "    }\n",
       "\n",
       "    .dataframe thead th {\n",
       "        text-align: left;\n",
       "    }\n",
       "\n",
       "    .dataframe tbody tr th {\n",
       "        vertical-align: top;\n",
       "    }\n",
       "</style>\n",
       "<table border=\"1\" class=\"dataframe\">\n",
       "  <thead>\n",
       "    <tr style=\"text-align: right;\">\n",
       "      <th></th>\n",
       "      <th>sensor</th>\n",
       "      <th>faltante</th>\n",
       "      <th>filtrado</th>\n",
       "      <th>nivel</th>\n",
       "    </tr>\n",
       "  </thead>\n",
       "  <tbody>\n",
       "    <tr>\n",
       "      <th>2017-10-27 00:00:00</th>\n",
       "      <td>1253.54</td>\n",
       "      <td>0.0</td>\n",
       "      <td>0.0</td>\n",
       "      <td>31.46</td>\n",
       "    </tr>\n",
       "    <tr>\n",
       "      <th>2017-10-27 00:01:00</th>\n",
       "      <td>1254.19</td>\n",
       "      <td>0.0</td>\n",
       "      <td>1.0</td>\n",
       "      <td>NaN</td>\n",
       "    </tr>\n",
       "    <tr>\n",
       "      <th>2017-10-27 00:02:00</th>\n",
       "      <td>1253.76</td>\n",
       "      <td>0.0</td>\n",
       "      <td>0.0</td>\n",
       "      <td>31.24</td>\n",
       "    </tr>\n",
       "    <tr>\n",
       "      <th>2017-10-27 00:03:00</th>\n",
       "      <td>1254.08</td>\n",
       "      <td>0.0</td>\n",
       "      <td>0.0</td>\n",
       "      <td>30.92</td>\n",
       "    </tr>\n",
       "    <tr>\n",
       "      <th>2017-10-27 00:04:00</th>\n",
       "      <td>1254.08</td>\n",
       "      <td>0.0</td>\n",
       "      <td>0.0</td>\n",
       "      <td>30.92</td>\n",
       "    </tr>\n",
       "  </tbody>\n",
       "</table>\n",
       "</div>"
      ],
      "text/plain": [
       "                      sensor  faltante  filtrado  nivel\n",
       "2017-10-27 00:00:00  1253.54       0.0       0.0  31.46\n",
       "2017-10-27 00:01:00  1254.19       0.0       1.0    NaN\n",
       "2017-10-27 00:02:00  1253.76       0.0       0.0  31.24\n",
       "2017-10-27 00:03:00  1254.08       0.0       0.0  30.92\n",
       "2017-10-27 00:04:00  1254.08       0.0       0.0  30.92"
      ]
     },
     "execution_count": 19,
     "metadata": {},
     "output_type": "execute_result"
    }
   ],
   "source": [
    "level.head()"
   ]
  },
  {
   "cell_type": "markdown",
   "metadata": {},
   "source": [
    "El resultado es un dataFrame cuyas columnas son los datos del sensor ('sensor'), que representa la distancia del sensor hasta la lámina de agua, en las columnas faltante y filtrado, si el valor es 1 significa que el dato fue filtrado o es faltante, la columna nivel es la profundidad de la lámina de agua una vez realizado el filtro y al haberle restado el offset dinámico a la distancia del sensor. Para el filtro se utilizan unas bandas de confianza construidas con media móvil de 20 datos +- 5*desviación estándar de la media con una ventana móvil de dos datos. "
   ]
  },
  {
   "cell_type": "markdown",
   "metadata": {},
   "source": [
    "El cálculo de la profundidad se hace utilizando un offset dinámico, recalculado cada vez que se realiza un leventamiento topo-batimétrico, sin embargo, es común trabajar con el offset estático, para este caso"
   ]
  },
  {
   "cell_type": "code",
   "execution_count": 20,
   "metadata": {},
   "outputs": [
    {
     "data": {
      "text/html": [
       "<div>\n",
       "<style>\n",
       "    .dataframe thead tr:only-child th {\n",
       "        text-align: right;\n",
       "    }\n",
       "\n",
       "    .dataframe thead th {\n",
       "        text-align: left;\n",
       "    }\n",
       "\n",
       "    .dataframe tbody tr th {\n",
       "        vertical-align: top;\n",
       "    }\n",
       "</style>\n",
       "<table border=\"1\" class=\"dataframe\">\n",
       "  <thead>\n",
       "    <tr style=\"text-align: right;\">\n",
       "      <th></th>\n",
       "      <th>sensor</th>\n",
       "      <th>faltante</th>\n",
       "      <th>filtrado</th>\n",
       "      <th>nivel</th>\n",
       "    </tr>\n",
       "  </thead>\n",
       "  <tbody>\n",
       "    <tr>\n",
       "      <th>2017-10-27 00:00:00</th>\n",
       "      <td>1253.54</td>\n",
       "      <td>0.0</td>\n",
       "      <td>0.0</td>\n",
       "      <td>31.46</td>\n",
       "    </tr>\n",
       "    <tr>\n",
       "      <th>2017-10-27 00:01:00</th>\n",
       "      <td>1254.19</td>\n",
       "      <td>0.0</td>\n",
       "      <td>1.0</td>\n",
       "      <td>NaN</td>\n",
       "    </tr>\n",
       "    <tr>\n",
       "      <th>2017-10-27 00:02:00</th>\n",
       "      <td>1253.76</td>\n",
       "      <td>0.0</td>\n",
       "      <td>0.0</td>\n",
       "      <td>31.24</td>\n",
       "    </tr>\n",
       "    <tr>\n",
       "      <th>2017-10-27 00:03:00</th>\n",
       "      <td>1254.08</td>\n",
       "      <td>0.0</td>\n",
       "      <td>0.0</td>\n",
       "      <td>30.92</td>\n",
       "    </tr>\n",
       "    <tr>\n",
       "      <th>2017-10-27 00:04:00</th>\n",
       "      <td>1254.08</td>\n",
       "      <td>0.0</td>\n",
       "      <td>0.0</td>\n",
       "      <td>30.92</td>\n",
       "    </tr>\n",
       "  </tbody>\n",
       "</table>\n",
       "</div>"
      ],
      "text/plain": [
       "                      sensor  faltante  filtrado  nivel\n",
       "2017-10-27 00:00:00  1253.54       0.0       0.0  31.46\n",
       "2017-10-27 00:01:00  1254.19       0.0       1.0    NaN\n",
       "2017-10-27 00:02:00  1253.76       0.0       0.0  31.24\n",
       "2017-10-27 00:03:00  1254.08       0.0       0.0  30.92\n",
       "2017-10-27 00:04:00  1254.08       0.0       0.0  30.92"
      ]
     },
     "execution_count": 20,
     "metadata": {},
     "output_type": "execute_result"
    }
   ],
   "source": [
    "level = aula.get_level(fecha_inicial,fecha_final,offset='old')\n",
    "level.head()"
   ]
  }
 ],
 "metadata": {
  "kernelspec": {
   "display_name": "Python 2",
   "language": "python",
   "name": "python2"
  },
  "language_info": {
   "codemirror_mode": {
    "name": "ipython",
    "version": 2
   },
   "file_extension": ".py",
   "mimetype": "text/x-python",
   "name": "python",
   "nbconvert_exporter": "python",
   "pygments_lexer": "ipython2",
   "version": "2.7.6"
  }
 },
 "nbformat": 4,
 "nbformat_minor": 2
}
